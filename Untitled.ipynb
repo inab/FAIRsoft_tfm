{
 "cells": [
  {
   "cell_type": "markdown",
   "metadata": {},
   "source": [
    "# Methodology"
   ]
  },
  {
   "cell_type": "markdown",
   "metadata": {},
   "source": [
    "### Author: Eva Martin del Pico*"
   ]
  },
  {
   "cell_type": "markdown",
   "metadata": {},
   "source": [
    "*eva.martin@bsc.es"
   ]
  },
  {
   "cell_type": "markdown",
   "metadata": {},
   "source": [
    "This jupyter notebook contains the computational pipeline applied in the research titled **A definition and practical application of a set of the *FAIRsoft* metrics, a set quality metrics for research software.** \n",
    "## 1. Extraction and parsing \n",
    "The set of 2000 tools considered is http://github.inab/FAIRsoft/data/2000tools.json and all come from bio.tools. Additional metadata about this tools will be obtained from bioconda (), bioconductor() and galaxy(). Sometimes, if not conviniently structured for our purpose, the data retrieve from these sources will need restructuring before being transformed into our data model, which is done by *FI_FAIR.py* (#Instance generation and integration). \n",
    "### bioconda \n",
    "Metadata from Bioconda is obtained from OpenEBench tool collection, that provides conviniently structured bioconda packages metadata (the code doing this task inside OpenEBench can be found here: https://github.com/inab/elixibilitas/tree/master/java/openebench-tools-importer/bioconda-importer). \n",
    "Getting all the tools in OpenEBech and then filtering by name and source is a fast way to obtain the desired set of records. The OpenEBench API is used for this purpose."
   ]
  },
  {
   "cell_type": "markdown",
   "metadata": {},
   "source": [
    "To run python program: !"
   ]
  },
  {
   "cell_type": "markdown",
   "metadata": {},
   "source": [
    "!python script.py\n",
    "    "
   ]
  },
  {
   "cell_type": "markdown",
   "metadata": {},
   "source": []
  },
  {
   "cell_type": "markdown",
   "metadata": {},
   "source": []
  },
  {
   "cell_type": "markdown",
   "metadata": {},
   "source": []
  },
  {
   "cell_type": "code",
   "execution_count": null,
   "metadata": {},
   "outputs": [],
   "source": []
  },
  {
   "cell_type": "markdown",
   "metadata": {},
   "source": [
    "The querying of the tools of interest will be done based on the name of the tool, which is coherent between bioconda and bio.tools. Tools are retrieved "
   ]
  },
  {
   "cell_type": "markdown",
   "metadata": {},
   "source": [
    "### bioconductor"
   ]
  },
  {
   "cell_type": "markdown",
   "metadata": {},
   "source": []
  },
  {
   "cell_type": "code",
   "execution_count": null,
   "metadata": {},
   "outputs": [],
   "source": []
  },
  {
   "cell_type": "markdown",
   "metadata": {},
   "source": []
  },
  {
   "cell_type": "code",
   "execution_count": null,
   "metadata": {},
   "outputs": [],
   "source": []
  },
  {
   "cell_type": "markdown",
   "metadata": {},
   "source": []
  },
  {
   "cell_type": "code",
   "execution_count": null,
   "metadata": {},
   "outputs": [],
   "source": []
  },
  {
   "cell_type": "markdown",
   "metadata": {},
   "source": [
    "### galaxy"
   ]
  },
  {
   "cell_type": "code",
   "execution_count": null,
   "metadata": {},
   "outputs": [],
   "source": []
  },
  {
   "cell_type": "markdown",
   "metadata": {},
   "source": [
    "## 2. "
   ]
  }
 ],
 "metadata": {
  "kernelspec": {
   "display_name": "Python 3",
   "language": "python",
   "name": "python3"
  },
  "language_info": {
   "codemirror_mode": {
    "name": "ipython",
    "version": 3
   },
   "file_extension": ".py",
   "mimetype": "text/x-python",
   "name": "python",
   "nbconvert_exporter": "python",
   "pygments_lexer": "ipython3",
   "version": "3.5.2"
  }
 },
 "nbformat": 4,
 "nbformat_minor": 2
}
