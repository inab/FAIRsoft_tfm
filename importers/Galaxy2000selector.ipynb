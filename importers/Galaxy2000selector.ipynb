{
 "cells": [
  {
   "cell_type": "code",
   "execution_count": null,
   "metadata": {},
   "outputs": [],
   "source": [
    "import json\n",
    "\n",
    "the2000 = set()\n",
    "with open('tool_names.txt', 'r') as toolnames:\n",
    "    for line in toolnames:\n",
    "        if line.rstrip() != 'tool_names.txt':\n",
    "            the2000.add(line.rstrip().lower())\n",
    "        else:\n",
    "            continue\n",
    "            \n",
    "\n",
    "with open('rep_metadatas.json', 'r') as outfile:\n",
    "        rep_metadatas = json.load(outfile)\n",
    "\n",
    "shedNames = []\n",
    "shedTOOLS = []\n",
    "for repo in rep_metadatas:\n",
    "    if repo == {}: #some repos are empty\n",
    "        continue\n",
    "    else:\n",
    "        ## XML downloading and parsing\n",
    "        key = max(iter(repo.keys())) # I only want the latest revision\n",
    "        ltst_rev = repo[key]\n",
    "        if 'name' in ltst_rev['repository'].keys():\n",
    "            shedNames.append(ltst_rev['repository']['name'])\n",
    "        if 'tools' in ltst_rev.keys():\n",
    "            for tool in ltst_rev['tools']:\n",
    "                shedNames.append(tool['name'])\n",
    "                shedTOOLS.append(tool)\n",
    "                #shedNames.append(tool['name'])\n",
    "            \n",
    "shedNames = set(shedNames)\n",
    "\n",
    "shedRepo = [tool for tool in shedTOOLS if tool['name'].lower() in ids]\n",
    "with open('shed2000.json', 'w') as fp:\n",
    "            json.dump(shedRepo, fp, sort_keys=True, indent=4)\n",
    "        \n",
    "\n",
    "with open('/home/eva/project/Galaxy/xml_metadatas.json', 'r') as outfile:\n",
    "    xml_metadatas = json.load(outfile)\n",
    "\n",
    "allShed = []\n",
    "\n",
    "for t in xml_metadatas:\n",
    "    for tool in t:\n",
    "        allShed.append(tool)\n",
    "        \n",
    "\n",
    "shed2000 = [tool for tool in allShed if str(tool['name']).lower() in ids ]\n",
    "with open('shedXML2000.json', 'w') as fp:\n",
    "            json.dump(shed2000, fp, sort_keys=True, indent=4)\n",
    "        "
   ]
  }
 ],
 "metadata": {
  "kernelspec": {
   "display_name": "Python 3",
   "language": "python",
   "name": "python3"
  },
  "language_info": {
   "codemirror_mode": {
    "name": "ipython",
    "version": 3
   },
   "file_extension": ".py",
   "mimetype": "text/x-python",
   "name": "python",
   "nbconvert_exporter": "python",
   "pygments_lexer": "ipython3",
   "version": "3.5.2"
  }
 },
 "nbformat": 4,
 "nbformat_minor": 2
}
