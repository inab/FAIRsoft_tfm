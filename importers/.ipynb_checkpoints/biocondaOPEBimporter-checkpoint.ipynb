{
 "cells": [
  {
   "cell_type": "code",
   "execution_count": null,
   "metadata": {},
   "outputs": [],
   "source": [
    "print(\"hello world\")"
   ]
  },
  {
   "cell_type": "markdown",
   "metadata": {},
   "source": [
    "## Titulo\n",
    "bla bla esto es una explicacion"
   ]
  },
  {
   "cell_type": "code",
   "execution_count": 14,
   "metadata": {},
   "outputs": [],
   "source": [
    "import json\n",
    "f = open(\"tool.json\", 'r')\n",
    "tools = json.load(f)\n",
    "\n",
    "the2000 = set()\n",
    "with open('tool_names.txt', 'r') as toolnames:\n",
    "    for line in toolnames:\n",
    "        if line.rstrip() != 'tool_names.txt':\n",
    "            the2000.add(line.rstrip().lower())\n",
    "        else:\n",
    "            continue\n",
    "\n",
    "biocondaTools = []\n",
    "biocondaTOOLS = []\n",
    "\n",
    "for entry in tools:\n",
    "    fields = entry[\"@id\"].split('/')\n",
    "    if len(fields) > 6:\n",
    "        nmsp = fields[-3].split(':')[0]\n",
    "        id_ = {\"host\":fields[-1], \"type\":fields[-2], \n",
    "                   \"name\": fields[-3].split(':')[1],\n",
    "                   \"nmsp\": nmsp}\n",
    "        \n",
    "        entry['name'] = id_['name']\n",
    "        \n",
    "        if len(fields[-3].split(':'))>2:\n",
    "            id_['version'] = fields[-3].split(':')[2]\n",
    "        else:\n",
    "            id_['version'] = None\n",
    "            \n",
    "        \n",
    "        if nmsp == 'bioconda' and id_['name'] in the2000:\n",
    "            biocondaTools.append(id_)\n",
    "            biocondaTOOLS.append(entry)\n",
    "    \n",
    "with open('bioconda2000.json', 'w') as biocondaOut:\n",
    "    json.dump(biocondaTOOLS, biocondaOut)\n"
   ]
  },
  {
   "cell_type": "code",
   "execution_count": 13,
   "metadata": {},
   "outputs": [
    {
     "data": {
      "text/plain": [
       "1046"
      ]
     },
     "execution_count": 13,
     "metadata": {},
     "output_type": "execute_result"
    }
   ],
   "source": [
    "len(biocondaTOOLS)"
   ]
  },
  {
   "cell_type": "code",
   "execution_count": null,
   "metadata": {},
   "outputs": [],
   "source": []
  }
 ],
 "metadata": {
  "kernelspec": {
   "display_name": "Python 3",
   "language": "python",
   "name": "python3"
  },
  "language_info": {
   "codemirror_mode": {
    "name": "ipython",
    "version": 3
   },
   "file_extension": ".py",
   "mimetype": "text/x-python",
   "name": "python",
   "nbconvert_exporter": "python",
   "pygments_lexer": "ipython3",
   "version": "3.5.2"
  }
 },
 "nbformat": 4,
 "nbformat_minor": 2
}
