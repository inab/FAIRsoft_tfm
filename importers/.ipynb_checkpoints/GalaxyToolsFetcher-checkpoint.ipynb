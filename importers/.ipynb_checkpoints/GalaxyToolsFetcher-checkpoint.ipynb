{
 "cells": [
  {
   "cell_type": "markdown",
   "metadata": {},
   "source": [
    "# GalaxyToolsFetcher"
   ]
  },
  {
   "cell_type": "markdown",
   "metadata": {},
   "source": [
    "### Table of Contents"
   ]
  },
  {
   "cell_type": "markdown",
   "metadata": {},
   "source": [
    "1. [Introduction](#introduction)\n",
    "2. [Getting tools metadata through ToolShed API](#ToolShedAPI)\n",
    "    1. [Getting all repositories in the ToolShed](#repos)\n",
    "    2. [Getting the metadata of all the tools](#meta)\n",
    "3. [Getting the XML files](#xml) \n",
    "    1. [Downloading the zips containing the XMLs](#subxml)"
   ]
  },
  {
   "cell_type": "markdown",
   "metadata": {},
   "source": [
    "## Introduction <a name=\"introduction\"></a>"
   ]
  },
  {
   "cell_type": "markdown",
   "metadata": {},
   "source": [
    "This code does:\n",
    "* Download the repository metadata from Galaxy Tool Shed\n",
    "* Download the tools XMLs "
   ]
  },
  {
   "cell_type": "markdown",
   "metadata": {},
   "source": [
    "Useful data available through **ToolShed**:\n",
    "\n",
    "* Whether it is installable\n",
    "* Whether there is a development repository\n",
    "* Webpage\n",
    "* Whether there is a dependencies statement\n",
    "* Whther there is test data\n",
    "* Descriptions\n",
    "* Whether the version is downloadable\n",
    "\n",
    "Useful data available in the **.xml** files:\n",
    "\n",
    "* version\n",
    "* requirements -- Not a good source for requirements\n",
    "* description\n",
    "* input and output formats\n",
    "* command\n",
    "* language\n",
    "* examples / tests\n",
    "* help -  can contain citation\n"
   ]
  },
  {
   "cell_type": "markdown",
   "metadata": {},
   "source": [
    "## Getting tools metadata through ToolShed API <a name=\"ToolShedAPI\"></a>"
   ]
  },
  {
   "cell_type": "markdown",
   "metadata": {},
   "source": [
    "The API won't give us the repos metadata in batch, we need to request this information by ID (as far as I know). Thus, we first need to get the id of the tools and then request their metadata. "
   ]
  },
  {
   "cell_type": "markdown",
   "metadata": {},
   "source": [
    "### 1. Getting all repositories in the ToolShed  <a name=\"#repos\"></a>"
   ]
  },
  {
   "cell_type": "code",
   "execution_count": 2,
   "metadata": {},
   "outputs": [],
   "source": [
    "import requests\n",
    "import json\n",
    "import sys\n",
    "import zipfile\n",
    "import io\n",
    "from bs4 import BeautifulSoup\n",
    "\n",
    "# Necessary through the whole code:\n",
    "\n",
    "session = requests.Session()\n",
    "## It is required to have an account at the ToolShed (https://toolshed.g2.bx.psu.edu/) to use the API.\n",
    "headers = {'key': '13bf98724eff7d9cbf6ae1de77bf8826'} #The API key of my ToolShed user. "
   ]
  },
  {
   "cell_type": "code",
   "execution_count": null,
   "metadata": {},
   "outputs": [],
   "source": []
  },
  {
   "cell_type": "code",
   "execution_count": 3,
   "metadata": {},
   "outputs": [],
   "source": [
    "# url for quering the repositories:\n",
    "reps_url = \"https://toolshed.g2.bx.psu.edu/api/repositories?\" \n",
    "\n",
    "repositories = session.get(reps_url, headers = headers)\n",
    "repos =  json.loads(repositories.text) "
   ]
  },
  {
   "cell_type": "code",
   "execution_count": null,
   "metadata": {},
   "outputs": [],
   "source": [
    "repo_ids = []\n",
    "# Getting the ids of tools:\n",
    "for rep in repos:\n",
    "    # we are interested in tools (type:unrestriceted), not in tool_dependencies (type:tool_dependency) \n",
    "    if rep['type']=='unrestricted':\n",
    "        repo_ids.append(rep['id'])"
   ]
  },
  {
   "cell_type": "code",
   "execution_count": 29,
   "metadata": {},
   "outputs": [
    {
     "data": {
      "text/plain": [
       "3003"
      ]
     },
     "execution_count": 29,
     "metadata": {},
     "output_type": "execute_result"
    }
   ],
   "source": [
    "len(repo_ids)"
   ]
  },
  {
   "cell_type": "markdown",
   "metadata": {},
   "source": [
    "There are 3003 tools in the ShedTool at this moment"
   ]
  },
  {
   "cell_type": "markdown",
   "metadata": {},
   "source": [
    "### 2. Getting the metadata of all the tools <a name=\"meta\"></a>"
   ]
  },
  {
   "cell_type": "code",
   "execution_count": 58,
   "metadata": {},
   "outputs": [],
   "source": [
    "# url for quering the metadata:\n",
    "u = \"https://toolshed.g2.bx.psu.edu/api/repositories/{id_}/metadata?\"\n",
    "\n",
    "# List to store all the metadata \n",
    "rep_metadatas = [] \n",
    "\n",
    "# Iterating through all tools in the ToolShed:\n",
    "for rep_id in repo_ids:\n",
    "    req = u.format(id_ = rep_id)\n",
    "    try:\n",
    "        re = session.get(req, headers = headers)\n",
    "    except re.status_code != 200:\n",
    "        print(re.status_code)\n",
    "        print(\"problematic id:\" + rep_id)\n",
    "    else:    \n",
    "        meta = re.json()\n",
    "        rep_metadatas.append(meta)"
   ]
  },
  {
   "cell_type": "markdown",
   "metadata": {},
   "source": [
    "For now, since I am still not processing this info yet, I store it in disk for exploration."
   ]
  },
  {
   "cell_type": "code",
   "execution_count": 67,
   "metadata": {},
   "outputs": [],
   "source": [
    "with open('rep_metadatas.json', 'w') as outfile:\n",
    "    json.dump(rep_metadatas, outfile)"
   ]
  },
  {
   "cell_type": "code",
   "execution_count": 70,
   "metadata": {
    "scrolled": true
   },
   "outputs": [
    {
     "data": {
      "text/plain": [
       "3003"
      ]
     },
     "execution_count": 70,
     "metadata": {},
     "output_type": "execute_result"
    }
   ],
   "source": [
    "len(rep_metadatas)"
   ]
  },
  {
   "cell_type": "code",
   "execution_count": 69,
   "metadata": {},
   "outputs": [
    {
     "data": {
      "text/plain": [
       "3003"
      ]
     },
     "execution_count": 69,
     "metadata": {},
     "output_type": "execute_result"
    }
   ],
   "source": [
    "len(repo_ids)"
   ]
  },
  {
   "cell_type": "markdown",
   "metadata": {},
   "source": [
    "Downloading was not done in one run beacuse two ids metadata took a lot of time to be returned. These were:\n",
    "* 593\n",
    "* 2639\n",
    "\n",
    "Did not dig into the possible reason of this."
   ]
  },
  {
   "cell_type": "markdown",
   "metadata": {},
   "source": [
    "The metadata of a given tool consists in all the revisions of that tool, all of which follow the same schema.  "
   ]
  },
  {
   "cell_type": "markdown",
   "metadata": {},
   "source": [
    "#### Example of a revision of a tool. \n",
    "The id of the tool is 790743498728."
   ]
  },
  {
   "cell_type": "markdown",
   "metadata": {},
   "source": [
    "We can download its repo by: https://toolshed.g2.bx.psu.edu/repository/download?repository_id=790743498728befc&changeset_revision=96909b9d1df1&file_type=zip\n",
    "\n",
    "The first revision looks as follows:\n",
    "```\n",
    "{'0:96909b9d1df1': {'changeset_revision': '96909b9d1df1',\n",
    "   'downloadable': True,\n",
    "   'has_repository_dependencies': False,\n",
    "   'id': '94781fe549dd60ca',\n",
    "   'includes_datatypes': False,\n",
    "   'includes_tool_dependencies': False,\n",
    "   'includes_tools': True,\n",
    "   'includes_tools_for_display_in_tool_panel': True,\n",
    "   'includes_workflows': False,\n",
    "   'malicious': False,\n",
    "   'missing_test_components': False,\n",
    "   'model_class': 'RepositoryMetadata',\n",
    "   'repository': {'deleted': False,\n",
    "    'deprecated': False,\n",
    "    'description': '2D feature extraction',\n",
    "    'homepage_url': 'https://github.com/bmcv',\n",
    "    'id': '790743498728befc',\n",
    "    'model_class': 'Repository',\n",
    "    'name': '2d_feature_extraction',\n",
    "    'owner': 'imgteam',\n",
    "    'private': False,\n",
    "    'remote_repository_url': 'https://github.com/BMCV/galaxy-image-analysis/tools/2d_feature_extraction/',\n",
    "    'times_downloaded': 17,\n",
    "    'type': 'unrestricted',\n",
    "    'user_id': 3075},\n",
    "   'repository_dependencies': [],\n",
    "   'repository_id': '790743498728befc',\n",
    "   'tool_dependencies': {},\n",
    "   'tools': [{'add_to_tool_panel': True,\n",
    "     'description': 'Feature Extraction',\n",
    "     'guid': 'toolshed.g2.bx.psu.edu/repos/imgteam/2d_feature_extraction/ip_2d_feature_extraction/0.0.8',\n",
    "     'id': 'ip_2d_feature_extraction',\n",
    "     'name': '2D Feature Extraction',\n",
    "     'profile': 16.01,\n",
    "     'requirements': [{'name': 'pandas',\n",
    "       'type': 'package',\n",
    "       'version': '0.23.4'},\n",
    "      {'name': 'scikit-image', 'type': 'package', 'version': '0.14.2'},\n",
    "      {'name': 'numpy', 'type': 'package', 'version': '1.15.4'},\n",
    "      {'name': 'tifffile', 'type': 'package', 'version': '0.15.1'}],\n",
    "     'tests': [{'inputs': [['input_label', 'input.tiff'],\n",
    "        ['feature_options|features', 'select'],\n",
    "        ['feature_options|selected_features', '--area']],\n",
    "       'name': 'Test-1',\n",
    "       'outputs': [['attributes', 'name']],\n",
    "       'required_files': ['input.tiff', 'name']}],\n",
    "     'tool_config': '/srv/toolshed/main/var/data/repos/004/repo_4359/2d_feature_extraction.xml',\n",
    "     'tool_type': 'default',\n",
    "     'version': '0.0.8',\n",
    "     'version_string_cmd': None}]}}\n",
    "```"
   ]
  },
  {
   "cell_type": "markdown",
   "metadata": {},
   "source": [
    "## Getting the XML files <a name=\"xml\"></a>\n",
    "\n",
    "To get the xml, we need to either:\n",
    "* download the zip containing the files from the repository: \n",
    "\n",
    "https://toolshed.g2.bx.psu.edu/repository/download?repository_id={'repository_id'}&changeset_revision={'changeset_revision'}&file_type=zip\n",
    "\n",
    "For the example revision above:\n",
    "\n",
    "https://toolshed.g2.bx.psu.edu/repository/download?repository_id=790743498728befc&changeset_revision=96909b9d1df1&file_type=zip\n",
    "\n",
    "Name of file of interest is {'tools.id'}.xml. In this example, 2d_feature_extraction.xml.\n",
    "\n",
    "* clone the mercurial ToolShed repository using the 'tools.guid' repo and 'tools.id': \n",
    "\n",
    "https://toolshed.g2.bx.psu.edu/repos/imgteam/2d_feature_extraction/2d_feature_extraction.xml \n",
    "This does not seem like the best idea, since we would need to clone one by one due to a non sistematic structure of their repos :/\n"
   ]
  },
  {
   "cell_type": "markdown",
   "metadata": {},
   "source": [
    "### Downloading the zips containing the XMLs  <a name=\"subxml\"></a>"
   ]
  },
  {
   "cell_type": "code",
   "execution_count": 2,
   "metadata": {},
   "outputs": [],
   "source": [
    "import re "
   ]
  },
  {
   "cell_type": "code",
   "execution_count": 3,
   "metadata": {},
   "outputs": [],
   "source": [
    "class reposit(object):\n",
    "    def __init__(self, r):\n",
    "        self.res = r\n",
    "        # self repository \n",
    "        self.z = zipfile.ZipFile(io.BytesIO(r.content), 'r')\n",
    "        self.contentList = self.z.namelist() \n",
    "        self.meta = ''\n",
    "        self.validXML()\n",
    "        \n",
    "    def enrichFromShed(self, repo):\n",
    "        \n",
    "\n",
    "        \n",
    "    def validXML(self):\n",
    "        validFs = [] # some zips contain more than one tool.\n",
    "        validFbase = []\n",
    "        for f in self.contentList:\n",
    "            if '.xml' in f and True not in [word in f for word in exclude]:\n",
    "                fil = self.z.open(f)\n",
    "                BS = BeautifulSoup(fil, features=\"xml\")\n",
    "                if thisIsATool(BS) == True:\n",
    "                    valid = [BS, '/'.join(f.split('/')[:-1])]\n",
    "                    validFs.append(valid)\n",
    "        self.validXMLs = validFs\n",
    "         \n",
    "    def get_macros(self, macrosList, baseUrl):\n",
    "        '''\n",
    "        This function takes a list of paths for macros and returns a \n",
    "        dictionary with the tokens inside them\n",
    "        '''\n",
    "        macros = {}\n",
    "        tokens = {}\n",
    "        requirements = []                 \n",
    "        for imp in macrosList:\n",
    "            filepath = baseUrl + '/' + imp\n",
    "            Import = self.z.open(filepath)\n",
    "            BSmacros = BeautifulSoup(Import, features=\"xml\")\n",
    "            ##--- tokens -------------------------------------\n",
    "            tokens = parse_tokens(BSmacros, tokens)\n",
    "        '''    \n",
    "        for imp in macrosList:\n",
    "            filepath = baseUrl + '/' + imp\n",
    "            Import = self.z.open(filepath)\n",
    "            BSmacros = BeautifulSoup(Import, features=\"xml\")\n",
    "            ##--- requirements -------------------------------\n",
    "            requirements = parse_requirements(BSmacros, requirements, tokens)\n",
    "        '''\n",
    "        macros['tokens'] = tokens\n",
    "        #macros['requirements'] = requirements\n",
    "        return(macros)\n",
    "              \n",
    "\n",
    "    def parse(self):\n",
    "        self.meta = self.parse_xmls()\n",
    "        \n",
    "    def parse_xmls(self):\n",
    "        TOOLS = []\n",
    "        for Tool in self.validXMLs:\n",
    "            # build dictionary with macros\n",
    "            tool = Tool[0]\n",
    "            base_url = Tool[1]\n",
    "            if tool.tool.macros:\n",
    "                imports = [a.get_text() for a in tool.tool.macros.findAll(\"import\")]\n",
    "                macros = self.get_macros(imports, base_url)\n",
    "            else:\n",
    "                macros = {'tokens': {}, 'requirements': []}\n",
    "                    \n",
    "            t = {}\n",
    "            #---- identity ---------------------------------------------------\n",
    "\n",
    "            t['id'] = rMacros(macros['tokens'], tool.tool['id']) if 'id' in tool.tool.attrs.keys() else None\n",
    "            t['name'] = rMacros(macros['tokens'], tool.tool['name']) if 'name' in tool.tool.attrs.keys() else None\n",
    "\n",
    "            t['version'] = rMacros(macros['tokens'], tool.tool['version']) if 'version' in tool.tool.attrs.keys() else None\n",
    "            t['description'] = rMacros(macros['tokens'], tool.tool.description.get_text()) if tool.tool.description else None\n",
    "            #---- technical ---------------------------------------------------\n",
    "            #t['requirements'] = macros['requirements']\n",
    "            t['code_file'] = rMacros(macros['tokens'], tool.tool.code['file']) if tool.tool.code else None\n",
    "            t['language'] = t['code_file'].split('.')[-1] if tool.tool.code else None\n",
    "            if tool.tool.command:\n",
    "                t['command'] = rMacros(macros['tokens'], tool.tool.command.get_text())\n",
    "                if  'interpreter' in tool.tool.command.attrs.keys():\n",
    "                    t['interpreter'] = rMacros(macros['tokens'], tool.tool.command['interpreter']) \n",
    "                else:\n",
    "                    t['interpreter'] = None\n",
    "            else:\n",
    "                t['command'] = None\n",
    "            #---- formats -----------------------------------------------------\n",
    "            t['dataFormats'] =  parse_in_out(tool)\n",
    "            #---- usability ---------------------------------------------------\n",
    "            t['help'] = rMacros(macros['tokens'], str(tool.tool.help.get_text())) if tool.tool.help else None\n",
    "            t['tests'] = existTest(tool)\n",
    "            #---- credit -------------------------------------------------------\n",
    "            t['ciation'] = get_citations(tool.tool.citations, macros) if tool.tool.citations else None\n",
    "            # this does not come from XML:\n",
    "            t['readme'] = self.existREADME()\n",
    "            TOOLS.append(t)\n",
    "        return(TOOLS)\n",
    "    \n",
    "\n",
    "    \n",
    "    def existREADME(self):\n",
    "        for f in self.contentList:\n",
    "            if 'README' in f and True not in [word in f for word in exclude]:\n",
    "                return(True)\n",
    "            else:\n",
    "                continue\n",
    "        return(False)\n",
    "\n",
    "    \n",
    "def get_citations(citations, macros):\n",
    "\n",
    "    cits = []\n",
    "    for child in citations.findAll(\"citation\"):\n",
    "        cits.append({'citation' : rMacros(macros['tokens'], str(child.get_text())), 'type':  rMacros(macros['tokens'], str(child['type']))})\n",
    "    return(cits)\n",
    "    \n",
    "    \n",
    "\n",
    "def parse_tokens(BSmacros, tokens):\n",
    "    fields = [a for a in BSmacros.findAll(\"token\")]\n",
    "    \n",
    "    for e in fields:\n",
    "        if '\\\\$' not in e.get_text().lstrip():\n",
    "            tokens[e['name']] = e.get_text().lstrip()\n",
    "    \n",
    "    return(tokens)\n",
    "\n",
    "'''\n",
    "def parse_requirements(BSmacros, requirements, tokens):\n",
    "    fields = [a for a in BSmacros.findAll(\"requirement\")]\n",
    "    \n",
    "    for req in fields:\n",
    "        type_ = rMacros(tokens, req['type']) if 'type' in req.attrs.keys() else None\n",
    "        version = rMacros(tokens, req['version']) if 'version' in req.attrs.keys() else None\n",
    "        name = rMacros(tokens, req.get_text())\n",
    "        REQ = {'type': type_, 'version': version, 'name': name}\n",
    "        requirements.append(REQ)    \n",
    "    \n",
    "    print(requirements)\n",
    "    return(requirements)\n",
    "'''\n",
    "\n",
    "def parse_in_out(tool):\n",
    "    inOut = {}\n",
    "    inFormats = []\n",
    "    outFormats = []\n",
    "    \n",
    "    for inp in [a for a in tool.findAll(\"inputs\")]:\n",
    "        for f in  [a for a in inp.findAll([\"param\",\"data\"])]:\n",
    "            inFormats.append(f['format']) if 'format' in f.attrs.keys() else None\n",
    "            \n",
    "    for outp in [a for a in tool.findAll(\"outputs\")]:\n",
    "        for f in  [a for a in outp.findAll([\"param\", \"data\"])]:\n",
    "            outFormats.append(f['format']) if 'format' in f.attrs.keys() else None\n",
    "    \n",
    "    inOut['inputs'] = inFormats\n",
    "    inOut['outputs'] = outFormats\n",
    "    \n",
    "    return(inOut)\n",
    "        \n",
    "    \n",
    "def existTest(tool):\n",
    "    if tool.findAll(\"test\"):\n",
    "        return(True)\n",
    "    else:\n",
    "        return(False)\n",
    "\n",
    "\n",
    "def thisIsATool(BS):\n",
    "    if BS.findAll('tool'):\n",
    "        return(True)\n",
    "    else:\n",
    "        return(False)\n",
    "    \n",
    "    return(None)\n",
    "  \n",
    "\n",
    "exclude = ['dependencies','dependency','macros.xml','build.xml']\n",
    "\n",
    "\n",
    "def rMacros(macroTokens, string):\n",
    "    for key in macroTokens.keys():\n",
    "        if key in string:\n",
    "            string = string.replace(key, macroTokens[key])\n",
    "    return(string)\n",
    "\n",
    "\n",
    "\n",
    "def zip2Repo(ltst_rev):\n",
    "    \n",
    "    url = fileurl.format(repository_id=ltst_rev['repository_id'], changeset_revision=ltst_rev['changeset_revision'] )\n",
    "            \n",
    "    r = session.get(url, headers = headers) # TODO: handle exceptions here\n",
    "            \n",
    "    repository = reposit(r = r) # We build an toolZip object here\n",
    "           \n",
    "    repository.parse()  # We execute the parsing here\n",
    "            \n",
    "    ## We merge metadata from both sources\n",
    "            \n",
    "    return(repository)\n"
   ]
  },
  {
   "cell_type": "code",
   "execution_count": 4,
   "metadata": {},
   "outputs": [],
   "source": [
    "\n",
    "### the url is of the form:\n",
    "fileurl = \"https://toolshed.g2.bx.psu.edu/repository/download?repository_id={repository_id}&changeset_revision={changeset_revision}&file_type=zip\"\n",
    "\n",
    "\n",
    "def main():\n",
    "    # The repos metadata from galaxy contain the needed identifiers:\n",
    "    with open('rep_metadatas.json', 'r') as outfile:\n",
    "        rep_metadatas = json.load(outfile)\n",
    "\n",
    "    all_metas = []\n",
    "    #iterating through tools (metadata of tools contain the ids needed for the query)\n",
    "    for repo in rep_metadatas[]: \n",
    "        if repo == {}: #some repos are empty\n",
    "            continue\n",
    "        else:\n",
    "            ## XML downloading and parsing\n",
    "            key = max(iter(repo.keys())) # I only want the latest revision\n",
    "            ltst_rev = repo[key] \n",
    "            \n",
    "            tool = zip2Repo(ltst_rev)\n",
    "            \n",
    "            # Add the metadata to repo\n",
    "            \n",
    "            tool.enrichFromShed(repo)\n",
    "            \n",
    "            all_metas.append(tool.meta)\n",
    "\n",
    "    # save to disk\n",
    "    with open('xml_metadatas.json', 'w') as outputfile:\n",
    "        json.dump(all_metas, outputfile)\n"
   ]
  },
  {
   "cell_type": "code",
   "execution_count": 5,
   "metadata": {},
   "outputs": [],
   "source": [
    "main()"
   ]
  },
  {
   "cell_type": "code",
   "execution_count": 128,
   "metadata": {},
   "outputs": [
    {
     "data": {
      "text/plain": [
       "['macros.xml']"
      ]
     },
     "execution_count": 128,
     "metadata": {},
     "output_type": "execute_result"
    }
   ],
   "source": [
    "imports = [a.get_text() for a in BSa.macros.findAll(\"import\")]\n",
    "imports"
   ]
  },
  {
   "cell_type": "code",
   "execution_count": 91,
   "metadata": {},
   "outputs": [
    {
     "data": {
      "text/plain": [
       "<macros>\n",
       "<import>macros.xml</import>\n",
       "</macros>"
      ]
     },
     "execution_count": 91,
     "metadata": {},
     "output_type": "execute_result"
    }
   ],
   "source": [
    "BSa.macros"
   ]
  },
  {
   "cell_type": "markdown",
   "metadata": {},
   "source": []
  },
  {
   "cell_type": "markdown",
   "metadata": {},
   "source": []
  },
  {
   "cell_type": "markdown",
   "metadata": {},
   "source": []
  }
 ],
 "metadata": {
  "kernelspec": {
   "display_name": "Python 3",
   "language": "python",
   "name": "python3"
  },
  "language_info": {
   "codemirror_mode": {
    "name": "ipython",
    "version": 3
   },
   "file_extension": ".py",
   "mimetype": "text/x-python",
   "name": "python",
   "nbconvert_exporter": "python",
   "pygments_lexer": "ipython3",
   "version": "3.5.2"
  }
 },
 "nbformat": 4,
 "nbformat_minor": 2
}
